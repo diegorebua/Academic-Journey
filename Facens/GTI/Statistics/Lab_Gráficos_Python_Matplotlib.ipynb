{
  "cells": [
    {
      "cell_type": "markdown",
      "metadata": {
        "id": "AxePEYejYih9"
      },
      "source": [
        "# **Laboratório de Visualização de Dados com Python e Matplotlib**\n",
        "\n",
        "**Nome:** <br>\n",
        "**RA:**\n",
        "\n",
        "### **Objetivo do Laboratório:**\n",
        "\n",
        "Neste laboratório, você irá explorar diferentes tipos de visualizações de dados utilizando as bibliotecas Matplotlib e Python. Você aprenderá a criar histogramas, gráficos de dispersão, gráficos de pizza, gráficos de barras e gráficos de linha em Python.\n",
        "\n",
        "Ao final, você será capaz de escolher o tipo de gráfico mais apropriado para representar seus dados e entender como personalizar visualizações para transmitir informações de forma eficaz."
      ]
    },
    {
      "cell_type": "markdown",
      "metadata": {
        "id": "VK1b2AoBP9lt"
      },
      "source": [
        "### **Dados Interessantes para Visualização**\n",
        "Para este laboratório, utilizaremos um conjunto de dados fictício sobre a venda de frutas em uma loja ao longo de um mês. Os dados incluem:\n",
        "\n",
        "*   Frutas: Maçãs, Bananas, Laranjas, Uvas, Morangos\n",
        "*   Vendas (em unidades): 150, 200, 100, 80, 120\n",
        "*   Preços (em dólares): 0.5, 0.3, 0.4, 0.6, 0.8\n",
        "*   Dias da semana: 1 a 30 (representando os dias do mês)\n",
        "*   Temperatura média (em °C): Valores aleatórios entre 15 e 30 para cada dia"
      ]
    },
    {
      "cell_type": "markdown",
      "metadata": {
        "id": "V5vkHAiCQNC1"
      },
      "source": [
        "\n",
        "### **1. Histograma**\n",
        "**Função:** `plt.hist()`\n",
        "\n",
        "O histograma é uma representação gráfica da distribuição de um conjunto de dados. Ele divide os dados em intervalos (bins) e conta quantas observações caem em cada intervalo.\n",
        "\n",
        "**Parâmetros:**\n",
        "\n",
        "`x`: Os dados a serem plotados. Neste caso, um array de temperaturas.\n",
        "\n",
        "`bins`: O número de intervalos (bins) em que os dados serão divididos. Aqui, usamos 10 bins.\n",
        "\n",
        "`color`: A cor das barras do histograma. Usamos 'blue'.\n",
        "\n",
        "`alpha`: A transparência das barras, onde 0 é totalmente transparente e 1 é totalmente opaco.\n",
        "\n",
        "`title, xlabel, ylabel`: Títulos e rótulos dos eixos.\n",
        "\n",
        "**Dados Usados:**\n",
        "\n",
        "`temperaturas`: Um array de 30 valores inteiros aleatórios entre 15 e 30, representando a temperatura média em °C ao longo de um mês.\n",
        "\n",
        "`Faixa de valores`: 15 a 30 °C."
      ]
    },
    {
      "cell_type": "code",
      "execution_count": null,
      "metadata": {
        "id": "5RhlbDDGP7C9"
      },
      "outputs": [],
      "source": [
        "import numpy as np\n",
        "import matplotlib.pyplot as plt\n",
        "\n",
        "# Dados de temperatura média\n",
        "temperaturas = np.random.randint(15, 30, size=30)\n",
        "temperaturas"
      ]
    },
    {
      "cell_type": "code",
      "execution_count": null,
      "metadata": {
        "id": "i4IVg42ewJq1"
      },
      "outputs": [],
      "source": [
        "# Criando o histograma\n",
        "plt.figure(figsize=(8, 5))\n",
        "(n, bins, patches) = plt.hist(, bins=, color='blue', alpha=0.7) #temperaturas, bins=5\n",
        "plt.title('Distribuição da Temperatura Média')\n",
        "plt.xlabel('Temperatura (°C)')\n",
        "plt.ylabel('Frequência')\n",
        "plt.grid(axis='y', alpha=0.75)\n",
        "plt.show()\n",
        "\n",
        "# Mostrando os intervalos\n",
        "print(\"Mostrar intervalos: \", bins)"
      ]
    },
    {
      "cell_type": "markdown",
      "metadata": {
        "id": "W2jL5c4qR6j-"
      },
      "source": [
        "### **2. Gráfico de Dispersão**\n",
        "**Função:** `plt.scatter()`\n",
        "\n",
        "O gráfico de dispersão é usado para mostrar a relação entre duas variáveis. Cada ponto representa uma observação no espaço bidimensional.\n",
        "\n",
        "**Parâmetros:**\n",
        "\n",
        "`x`: Os dados para o eixo x. Neste caso, os preços das frutas.\n",
        "\n",
        "`y`: Os dados para o eixo y. Aqui, as vendas das frutas.\n",
        "\n",
        "`color`: A cor dos pontos no gráfico. Usamos 'green'.\n",
        "\n",
        "`title, xlabel, ylabel`: Títulos e rótulos dos eixos.\n",
        "\n",
        "**Dados Usados:**\n",
        "\n",
        "`vendas`: Uma lista de vendas correspondentes em unidades: [150, 200, 100, 80, 120].\n",
        "\n",
        "`precos`: Uma lista de preços correspondentes em dólares: [0.5, 0.3, 0.4, 0.6, 0.8].\n",
        "\n",
        "`Faixa de valores`: Preços de 0.3 a 0.8 R$ e vendas de 80 a 200 unidades."
      ]
    },
    {
      "cell_type": "code",
      "execution_count": null,
      "metadata": {
        "id": "GjPUfXKXQ4V0"
      },
      "outputs": [],
      "source": [
        "# Gerando vendas e preços aleatórios\n",
        "np.random.seed(0)  # Para reprodutibilidade\n",
        "frutas = ['Maçãs', 'Bananas', 'Laranjas', 'Uvas', 'Morangos'] * 4  # Frutas repetidas\n",
        "vendas = np.random.randint(50, 300, size=20)  # Vendas entre 50 e 300 unidades\n",
        "precos = np.random.uniform(0.2, 1.5, size=20).round(1)  # Preços entre 0.2 e 1.5 R$\n",
        "\n",
        "print(\"vendas:\", vendas)\n",
        "print(\"precos:\", precos)"
      ]
    },
    {
      "cell_type": "code",
      "execution_count": null,
      "metadata": {
        "id": "2t7dpL8oSdn-"
      },
      "outputs": [],
      "source": [
        "# Criando o gráfico de dispersão\n",
        "plt.figure(figsize=(10, 6))\n",
        "plt.scatter(, color='green') #precos, vendas\n",
        "plt.title('Vendas vs Preço das Frutas')\n",
        "plt.xlabel('Preço (R$)')\n",
        "plt.ylabel('Vendas (unidades)')\n",
        "plt.xticks(np.round(precos, 2))  # Arredondando os preços para melhor visualização\n",
        "plt.yticks(np.arange(0, 301, 50))  # Definindo os ticks do eixo y\n",
        "plt.show()"
      ]
    },
    {
      "cell_type": "markdown",
      "metadata": {
        "id": "LQVrDNkOSuTt"
      },
      "source": [
        "### **3. Gráfico de Pizza**\n",
        "**Função:** `plt.pie()`\n",
        "\n",
        "O gráfico de pizza é usado para mostrar a proporção de partes em relação ao todo. Cada fatia representa uma categoria e sua proporção em relação ao total.\n",
        "\n",
        "**Parâmetros:**\n",
        "\n",
        "`x`: Os dados que representam as proporções. Aqui, as vendas das frutas.\n",
        "\n",
        "`labels`: Rótulos para cada fatia do gráfico. Usamos os nomes das frutas.\n",
        "\n",
        "`autopct`: Formato para mostrar a porcentagem em cada fatia. Usamos '%1.1f%%' para mostrar uma casa decimal.\n",
        "\n",
        "`startangle`: O ângulo de início para a primeira fatia. Usamos 140 graus para uma melhor visualização.\n",
        "\n",
        "`title`: Título do gráfico.\n",
        "\n",
        "**Dados Usados:**\n",
        "\n",
        "`frutas`: Uma lista de frutas.\n",
        "`vendas`: Uma lista de vendas correspondentes em unidades: [150, 200, 100, 80, 120]."
      ]
    },
    {
      "cell_type": "code",
      "execution_count": null,
      "metadata": {
        "id": "Z1xqjuk2TZyd"
      },
      "outputs": [],
      "source": [
        "# Dados de vendas e frutas\n",
        "frutas = ['Maçãs', 'Bananas', 'Laranjas', 'Uvas', 'Morangos']\n",
        "vendas = [150, 200, 100, 80, 120]"
      ]
    },
    {
      "cell_type": "code",
      "execution_count": null,
      "metadata": {
        "id": "vrbnhL7GSgJ1"
      },
      "outputs": [],
      "source": [
        "# Criando o gráfico de pizza\n",
        "plt.figure(figsize=(8, 5))\n",
        "plt.pie(, labels=, autopct='%1.1f%%', startangle=140) #vendas, labels=frutas\n",
        "plt.title('Proporção de Vendas por Fruta')\n",
        "plt.axis('equal')  # Para garantir que o gráfico seja um círculo\n",
        "plt.show()"
      ]
    },
    {
      "cell_type": "markdown",
      "metadata": {
        "id": "3NPOkyoGUiio"
      },
      "source": [
        "### **4. Gráfico de Barras**\n",
        "**Função:** `plt.bar()`\n",
        "\n",
        "O gráfico de barras é usado para comparar diferentes categorias. Cada barra representa uma categoria e sua altura é proporcional ao valor.\n",
        "\n",
        "**Parâmetros:**\n",
        "\n",
        "`x`: As categorias que serão representadas no eixo x. Aqui, as frutas.\n",
        "\n",
        "`height`: Os valores correspondentes a cada categoria. Usamos as vendas.\n",
        "\n",
        "`color`: A cor das barras. Usamos 'orange'.\n",
        "\n",
        "`title, xlabel, ylabel`: Títulos e rótulos dos eixos.\n",
        "\n",
        "**Dados Usados:**\n",
        "\n",
        "`frutas`: Uma lista de frutas.\n",
        "\n",
        "`vendas`: A mesma lista de vendas: [150, 200, 100, 80, 120].\n"
      ]
    },
    {
      "cell_type": "code",
      "execution_count": 17,
      "metadata": {
        "id": "wn0pAP76S1SV"
      },
      "outputs": [],
      "source": [
        "# Dados de vendas e frutas\n",
        "frutas = ['Maçãs', 'Bananas', 'Laranjas', 'Uvas', 'Morangos']\n",
        "vendas = [150, 200, 100, 80, 120]"
      ]
    },
    {
      "cell_type": "code",
      "execution_count": null,
      "metadata": {
        "id": "zZ5ib19gU1kE"
      },
      "outputs": [],
      "source": [
        "# Criando o gráfico de barras\n",
        "plt.figure(figsize=(8, 5))\n",
        "plt.bar(, color='orange') #frutas, vendas\n",
        "plt.title('Vendas de Frutas')\n",
        "plt.xlabel('Frutas')\n",
        "plt.ylabel('Vendas (unidades)')\n",
        "plt.grid(axis='y', alpha=0.65)\n",
        "plt.show()"
      ]
    },
    {
      "cell_type": "markdown",
      "metadata": {
        "id": "AY9S5pNYVH4V"
      },
      "source": [
        "### **5. Gráfico de Linha**\n",
        "**Função:** `plt.plot()`\n",
        "\n",
        "O gráfico de linha é usado para mostrar a tendência de uma variável ao longo do tempo. Cada ponto é conectado por uma linha, mostrando a evolução dos dados.\n",
        "\n",
        "**Parâmetros:**\n",
        "\n",
        "`x`: Os dados para o eixo x. Aqui, os dias do mês.\n",
        "\n",
        "`y`: Os dados para o eixo y. Aqui, as vendas diárias.\n",
        "\n",
        "`marker`: O estilo do marcador para os pontos. Usamos 'o' para círculos.\n",
        "\n",
        "`color`: A cor da linha. Usamos 'purple'.\n",
        "\n",
        "`title, xlabel, ylabel`: Títulos e rótulos dos eixos.\n",
        "\n",
        "**Dados Usados:**\n",
        "\n",
        "`dias`: Um array de 30 valores representando os dias do mês: [1, 2, ..., 30].\n",
        "\n",
        "`vendas_diarias`: Um array de 30 valores inteiros aleatórios entre 50 e 200, representando as vendas diárias."
      ]
    },
    {
      "cell_type": "code",
      "execution_count": 21,
      "metadata": {
        "colab": {
          "base_uri": "https://localhost:8080/"
        },
        "id": "3FlDD7d7U4eF",
        "outputId": "3afe320d-9130-4383-93e3-a332bab2d6f8"
      },
      "outputs": [
        {
          "name": "stdout",
          "output_type": "stream",
          "text": [
            "dias: [ 1  2  3  4  5  6  7  8  9 10 11 12 13 14 15 16 17 18 19 20 21 22 23 24\n",
            " 25 26 27 28 29 30]\n",
            "vendas_diarias:  [ 74 181  64 138  66 157 122 161 185 109 137 116 117 152 177 117  62 110\n",
            " 105 190 136  69 150 179 141 160 129 145 183  77]\n"
          ]
        }
      ],
      "source": [
        "# Criando dados fictícios para vendas ao longo do mês\n",
        "dias = np.arange(1, 31)\n",
        "vendas_diarias = np.random.randint(50, 200, size=30)\n",
        "print(\"dias:\", dias)\n",
        "print(\"vendas_diarias: \", vendas_diarias)"
      ]
    },
    {
      "cell_type": "code",
      "execution_count": null,
      "metadata": {
        "id": "tAGaNflnVoO8"
      },
      "outputs": [],
      "source": [
        "# Criando o gráfico de linha\n",
        "plt.figure(figsize=(10, 5))\n",
        "plt.plot(, marker='o', color='purple') #dias, vendas_diarias\n",
        "plt.title('Vendas Diárias de Frutas ao Longo do Mês')\n",
        "plt.xlabel('Dia do Mês')\n",
        "plt.ylabel('Vendas (unidades)')\n",
        "plt.xticks(dias)\n",
        "plt.grid()\n",
        "plt.show()"
      ]
    },
    {
      "cell_type": "markdown",
      "metadata": {
        "id": "ge5zidnoXV8-"
      },
      "source": [
        "-------"
      ]
    },
    {
      "cell_type": "markdown",
      "metadata": {
        "id": "fvXvxqiDXtHd"
      },
      "source": [
        "# **Tarefa: Criação de Gráficos com Diferentes Tipos de Dados**\n",
        "\n",
        "### **Objetivo da Tarefa:**\n",
        "Nesta tarefa, você irá criar os mesmos tipos de gráficos (histograma, gráfico de dispersão, gráfico de pizza, gráfico de barras e gráfico de linha) utilizando diferentes conjuntos de dados.\n",
        "\n",
        "Cada conjunto de dados deve conter 50 itens. Você irá explorar como diferentes dados podem ser visualizados e como a escolha do gráfico pode impactar a interpretação das informações."
      ]
    },
    {
      "cell_type": "markdown",
      "metadata": {
        "id": "iavwEQCbX5It"
      },
      "source": [
        "### Conjuntos de Dados\n",
        "\n",
        "**Dados de Vendas de Livros:**\n",
        "\n",
        "`Gêneros`: Ficção, Não-ficção, Fantasia, Biografia, Ciência.\n",
        "\n",
        "`Vendas (em unidades)`: Valores aleatórios entre 100 e 500.\n",
        "\n",
        "`Preços (em dólares)`: Valores aleatórios entre 5 e 30.\n",
        "\n",
        "\n",
        "**Dados de Temperaturas em Cidades:**\n",
        "\n",
        "`Cidades`: 50 cidades diferentes.\n",
        "\n",
        "`Temperaturas (em °C)`: Valores aleatórios entre 10 e 40.\n",
        "\n",
        "\n",
        "**Dados de Notas de Alunos:**\n",
        "\n",
        "`Alunos`: 50 alunos.\n",
        "\n",
        "`Notas`: Valores aleatórios entre 0 e 100."
      ]
    },
    {
      "cell_type": "code",
      "execution_count": null,
      "metadata": {
        "colab": {
          "base_uri": "https://localhost:8080/"
        },
        "id": "ovSzwt5jVyxk",
        "outputId": "c30b769c-3108-4595-f657-dd7b72247874"
      },
      "outputs": [],
      "source": [
        "# Dados de Vendas de Livros\n",
        "np.random.seed(0)  # Para reprodutibilidade\n",
        "generos = ['Ficção', 'Não-ficção', 'Fantasia', 'Biografia', 'Ciência']\n",
        "vendas_livros = np.random.randint(100, 500, size=50)  # Vendas entre 100 e 500\n",
        "precos_livros = np.random.uniform(5, 30, size=50)  # Preços entre 5 e 30 USD\n",
        "\n",
        "# Criando listas para os dados de vendas de livros\n",
        "livros = []\n",
        "for i in range(50):\n",
        "    genero = np.random.choice(generos)  # Escolhe um gênero aleatório\n",
        "    livros.append((genero, vendas_livros[i], precos_livros[i]))\n",
        "\n",
        "# Exibindo os dados gerados\n",
        "print(\"Dados de Vendas de Livros:\")\n",
        "for livro in livros[:5]:  # Mostrando os primeiros 5 itens\n",
        "    print(f\"Gênero: {livro[0]}, Vendas: {livro[1]}, Preço: {livro[2]:.2f} USD\")\n",
        "print()"
      ]
    },
    {
      "cell_type": "code",
      "execution_count": null,
      "metadata": {
        "colab": {
          "base_uri": "https://localhost:8080/"
        },
        "id": "fiiDU3U1Ygnk",
        "outputId": "de05dc3f-1665-4153-f71f-14e7b057e1b6"
      },
      "outputs": [],
      "source": [
        "# Dados de Temperaturas em Cidades\n",
        "cidades = [f\"Cidade {i+1}\" for i in range(50)]  # 50 cidades\n",
        "temperaturas = np.random.randint(10, 41, size=50)  # Temperaturas entre 10 e 40 °C\n",
        "\n",
        "# Criando listas para os dados de temperaturas\n",
        "temperaturas_cidades = list(zip(cidades, temperaturas))\n",
        "\n",
        "# Exibindo os dados gerados\n",
        "print(\"Dados de Temperaturas em Cidades:\")\n",
        "for cidade in temperaturas_cidades[:5]:  # Mostrando os primeiros 5 itens\n",
        "    print(f\"{cidade[0]}: {cidade[1]} °C\")\n",
        "print()"
      ]
    },
    {
      "cell_type": "code",
      "execution_count": null,
      "metadata": {
        "colab": {
          "base_uri": "https://localhost:8080/"
        },
        "id": "HJaIxZ6hYiuO",
        "outputId": "d002dab1-cc87-4bd8-c87d-6cf4f3fb2616"
      },
      "outputs": [],
      "source": [
        "# 3. Dados de Notas de Alunos\n",
        "alunos = [f\"Aluno {i+1}\" for i in range(50)]  # 50 alunos\n",
        "notas = np.random.randint(0, 101, size=50)  # Notas entre 0 e 100\n",
        "\n",
        "# Criando listas para os dados de notas\n",
        "notas_alunos = list(zip(alunos, notas))\n",
        "\n",
        "# Exibindo os dados gerados\n",
        "print(\"Dados de Notas de Alunos:\")\n",
        "for aluno in notas_alunos[:5]:  # Mostrando os primeiros 5 itens\n",
        "    print(f\"{aluno[0]}: Nota {aluno[1]}\")"
      ]
    },
    {
      "cell_type": "markdown",
      "metadata": {
        "id": "eNlE0uSGaeoW"
      },
      "source": [
        "### **T1- Histograma:**\n",
        "\n",
        "*   Crie um histograma para visualizar a distribuição das vendas de livros."
      ]
    },
    {
      "cell_type": "code",
      "execution_count": null,
      "metadata": {
        "id": "UR8h0GaParQF"
      },
      "outputs": [],
      "source": [
        "import"
      ]
    },
    {
      "cell_type": "markdown",
      "metadata": {
        "id": "S6pCqaFhasBd"
      },
      "source": [
        "*   Crie um histograma para visualizar a distribuição das temperaturas nas cidades."
      ]
    },
    {
      "cell_type": "code",
      "execution_count": null,
      "metadata": {
        "id": "jkMaEh-LatjM"
      },
      "outputs": [],
      "source": [
        "###### YOUR CODE HERE ######\n"
      ]
    },
    {
      "cell_type": "markdown",
      "metadata": {
        "id": "jx36CE6xawL_"
      },
      "source": [
        "### **T2- Gráfico de Dispersão:**\n",
        "\n",
        "Crie um gráfico de dispersão para mostrar a relação entre o preço dos livros e as vendas."
      ]
    },
    {
      "cell_type": "code",
      "execution_count": null,
      "metadata": {
        "id": "svfcXQi9a04U"
      },
      "outputs": [],
      "source": [
        "###### YOUR CODE HERE ######\n"
      ]
    },
    {
      "cell_type": "markdown",
      "metadata": {
        "id": "ClVxnvw8baEd"
      },
      "source": [
        "### **T3- Gráfico de Pizza:**\n",
        "\n",
        "Crie um gráfico de pizza para mostrar a proporção de vendas por gênero de livros."
      ]
    },
    {
      "cell_type": "code",
      "execution_count": 43,
      "metadata": {
        "id": "S83zJnlpbiau"
      },
      "outputs": [],
      "source": [
        "###### YOUR CODE HERE ######\n"
      ]
    },
    {
      "cell_type": "markdown",
      "metadata": {
        "id": "ma8h1iH8bk_G"
      },
      "source": [
        "### **T4- Gráfico de Barras:**\n",
        "\n",
        "*    Crie um gráfico de barras para comparar as vendas de cada gênero de livros."
      ]
    },
    {
      "cell_type": "code",
      "execution_count": null,
      "metadata": {
        "id": "dNyAc5jIbi79"
      },
      "outputs": [],
      "source": []
    },
    {
      "cell_type": "markdown",
      "metadata": {
        "id": "MMyJUyUobvB3"
      },
      "source": [
        "*   Crie um gráfico de barras para comparar a temperatura média em cada cidade."
      ]
    },
    {
      "cell_type": "code",
      "execution_count": null,
      "metadata": {
        "id": "eSHZt9fRbxRV"
      },
      "outputs": [],
      "source": []
    },
    {
      "cell_type": "markdown",
      "metadata": {
        "id": "eUaeu0BwbxxF"
      },
      "source": [
        "*    Crie um gráfico de barras para comparar a média das notas dos alunos por turma (gerar turmas aleatórias)."
      ]
    },
    {
      "cell_type": "code",
      "execution_count": null,
      "metadata": {
        "id": "vDME9AXrbzMF"
      },
      "outputs": [],
      "source": []
    },
    {
      "cell_type": "markdown",
      "metadata": {
        "id": "yQBRh7DPcYCW"
      },
      "source": [
        "### **T5- Gráfico de Linha:**\n",
        "Crie um gráfico de linha para mostrar a evolução das notas dos alunos ao longo de 50 avaliações."
      ]
    },
    {
      "cell_type": "code",
      "execution_count": null,
      "metadata": {
        "id": "gh1BTJ1tccl0"
      },
      "outputs": [],
      "source": []
    }
  ],
  "metadata": {
    "colab": {
      "provenance": []
    },
    "kernelspec": {
      "display_name": "Python 3",
      "name": "python3"
    },
    "language_info": {
      "name": "python"
    }
  },
  "nbformat": 4,
  "nbformat_minor": 0
}
